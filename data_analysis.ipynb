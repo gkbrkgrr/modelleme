{
 "cells": [
  {
   "cell_type": "code",
   "execution_count": 2,
   "metadata": {},
   "outputs": [],
   "source": [
    "import pandas as pd\n",
    "import xarray as xr\n",
    "import numpy as np\n",
    "import xlwings"
   ]
  },
  {
   "cell_type": "code",
   "execution_count": 60,
   "metadata": {},
   "outputs": [],
   "source": [
    "stations = {'name': ['İSTANBUL SABİHA GÖKÇEN HAVALİMANI', 'İSTANBUL BÖLGE', 'SAMANDIRA HAVALİMANI', 'ÇATALCA RADAR SAHASI', 'SARIYER', 'İSTANBUL ATATÜRK HAVALİMANI', 'KADIKÖY GÖZTEPE RIHTIM', \n",
    "                     'SİLİVRİ TPAO ŞAMANDIRA', 'KAMİLOBA AKOM', 'FATİH/İST.DEN.BİL.ENS.', 'BÜYÜKÇEKMECE', 'KADIKÖY/GÖZTEPE', 'SARIYER/RUMELİ FENERİ BAL. BAR. ANA MENDİREK FENER', 'EYÜPSULTAN',\n",
    "                     'SİLİVRİ ANA MENDİREK FENERİ', 'TUZLA İTÜ GÜNEY MENDİREK FENERİ', 'ŞİLE', 'FLORYA', 'GÜNGÖREN/DAVUTPAŞA MARMARA', 'FATİH/KUMKAPI FENER', 'TUZLA', 'SİLİVRİ', 'ARNAVUTKÖY',\n",
    "                     'ÇEKMEKÖY/ÖMERLİ', 'BEYKOZ/ANADOLU FENERİ', 'ÜSKÜDAR', 'SANCAKTEPE', 'ŞİŞLİ', 'ÜMRANİYE', 'BEYKOZ', 'ADALAR ŞAMANDIRA', 'ŞİLE/İSAKÖY', 'SİLİVRİ ORMAN SAHASI', 'ARNAVUTKÖY/TERKOS BARAJI',\n",
    "                     'ÇATALCA', 'ÇAVUŞBAŞI AKOM', 'HADİMKÖY AKOM', 'ÖMERLİ AKOM', 'KAĞITHANE AKOM', 'ÇANTA AKOM', 'İSTANBUL HAVALİMANI', 'SARIYER/YAVUZ SULTAN SELİM KÖPRÜSÜ', 'KARTAL/AYDOS DAĞI',\n",
    "                     'TUZLA AYDINLI LİMAN FENERİ', 'İSTANBUL BOĞAZI KARADENİZ ÇIKIŞI ŞAMANDIRA', 'ŞİLE/DARLIK KÖYÜ', 'PENDİK/ÖMERLİ BARAJI', 'BEYLİKDÜZÜ', 'SARIYER/İTÜ MASLAK YERLEŞKESİ', 'OLİMPİYAT AKOM',\n",
    "                     'TERKOS AKOM', 'BÜYÜKADA AKOM', 'AKSARAY AKOM'],\n",
    "            'code': [17063, 17064, 17065, 17047, 17061, 17060, 17062, 17388, 20017, 17603, 18099, 17813, 17455, 18101, 17438, 17448, 17610, 17636, 17814, 17454, 18100, 18400, 18402, 18397, 18421,\n",
    "                     18404, 18399, 18401, 18403, 18396, 17389, 18735, 18793, 18734, 19111, 20009, 20011, 20023, 20016, 20008, 17058, 19365, 19112, 17437, 17390, 18792, 18736, 19110, 18980, 20022,\n",
    "                     20030, 20007, 20002],\n",
    "            'lat': [40.897700, 40.911345, 40.986581, 41.340943, 41.146382, 40.981900, 40.988300, 41.039565, 41.047550, 41.015546, 41.045278, 40.979451, 41.230000, 41.102778, 41.073056, 40.812778,\n",
    "                    41.168800, 40.975837, 41.026600, 41.004200, 40.827778, 41.185556, 41.220278, 41.078333, 41.223333, 41.032778, 41.008611, 41.054722, 41.029444, 41.141667, 40.932780, 41.108330,\n",
    "                    41.306389, 41.336390, 41.168037, 41.076074, 41.138262, 40.999284, 41.085381, 41.085023, 41.264714, 41.209930, 40.931748, 40.851389, 41.475959, 41.043056, 41.008330, 40.965729,\n",
    "                    41.099909, 41.084917, 41.304392, 40.852750, 41.002000],\n",
    "            'lon': [29.303300, 29.155803, 29.213521, 28.356803, 29.050195, 28.820800, 29.018950, 28.187255, 28.418800, 28.960097, 28.590000, 29.057147, 29.115300, 28.924167, 28.239444, 29.297778,\n",
    "                    29.600651, 28.786531, 28.885300, 28.954700, 29.293056, 28.157500, 28.707500, 29.325556, 29.165833, 29.046389, 29.282222, 28.968333, 29.138333, 29.073889, 28.948890, 29.828330,\n",
    "                    28.186944, 28.617500, 28.490868, 29.136627, 28.623900, 29.329763, 28.961973, 28.078444, 28.728836, 29.104873, 29.228568, 29.271667, 28.716918, 29.571667, 29.341940, 28.622512,\n",
    "                    29.025127, 28.766194, 28.658664, 29.117802, 28.943300]}"
   ]
  },
  {
   "cell_type": "code",
   "execution_count": 12,
   "metadata": {},
   "outputs": [],
   "source": [
    "if 'İSTANBUL SABİHA GÖKÇEN HAVALİMANI' not in stations['name']:\n",
    "    print('gsdfgd')"
   ]
  },
  {
   "cell_type": "code",
   "execution_count": 77,
   "metadata": {},
   "outputs": [],
   "source": [
    "\n",
    "def data_from_mgm(path, stations):\n",
    "    i = 1\n",
    "    all_stations = {'name': [],\n",
    "                    'code': []}\n",
    "    \n",
    "    mgm_xlsx_data = xlwings.Book(path).sheets['Report']\n",
    "    loop = True\n",
    "\n",
    "    while loop:\n",
    "        row = mgm_xlsx_data.range('B' + str(i)).value\n",
    "\n",
    "        if row is not None and type(row) is str and 'Yıl/Ay' in row:\n",
    "            if len(row.split('/')) == 5:\n",
    "                station_name = row.split('/')[3][4:]\n",
    "                station_id = row.split('/')[4]\n",
    "            if len(row.split('/')) == 6:\n",
    "                station_name = row.split('/')[3][4:] + '/' + row.split('/')[4]\n",
    "                station_id = row.split('/')[5]\n",
    "\n",
    "            if station_name not in all_stations['name']:\n",
    "                all_stations['name'].append(station_name)\n",
    "                all_stations['code'].append(int(station_id))\n",
    "        if row is not None and type(row) is str and 'Notları' in row:\n",
    "            break\n",
    "        i += 1\n",
    "    return all_stations\n"
   ]
  },
  {
   "cell_type": "code",
   "execution_count": 79,
   "metadata": {},
   "outputs": [
    {
     "name": "stdout",
     "output_type": "stream",
     "text": [
      "17059\n",
      "51\n"
     ]
    }
   ],
   "source": [
    "path = r\"C:\\Users\\gkbrk\\Desktop\\modelleme\\73786-İTÜ\\202310030382-Saatlik Toplam Yağış (mm=kg÷m²) OMGİ.xlsx\"\n",
    "x = data_from_mgm(path=path, stations=stations)\n",
    "for code in x['code']:\n",
    "    if code not in stations['code']:\n",
    "        print(code)\n",
    "print(len(x['name']))"
   ]
  }
 ],
 "metadata": {
  "kernelspec": {
   "display_name": "mto",
   "language": "python",
   "name": "python3"
  },
  "language_info": {
   "codemirror_mode": {
    "name": "ipython",
    "version": 3
   },
   "file_extension": ".py",
   "mimetype": "text/x-python",
   "name": "python",
   "nbconvert_exporter": "python",
   "pygments_lexer": "ipython3",
   "version": "3.10.13"
  }
 },
 "nbformat": 4,
 "nbformat_minor": 2
}
