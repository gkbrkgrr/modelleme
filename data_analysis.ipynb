{
 "cells": [
  {
   "cell_type": "code",
   "execution_count": 1,
   "metadata": {},
   "outputs": [],
   "source": [
    "import pandas as pd\n",
    "import xarray as xr\n",
    "import numpy as np"
   ]
  },
  {
   "cell_type": "code",
   "execution_count": 10,
   "metadata": {},
   "outputs": [],
   "source": [
    "stations = {'name': ['İSTANBUL SABİHA GÖKÇEN HAVALİMANI', 'İSTANBUL BÖLGE', 'SAMANDIRA HAVALİMANI', 'ÇATALCA RADAR SAHASI', 'SARIYER', 'İSTANBUL ATATÜRK HAVALİMANI', 'KADIKÖY GÖZTEPE RIHTIM', \n",
    "                     'SİLİVRİ TPAO ŞAMANDIRA', 'KAMİLOBA AKOM', 'FATİH/İST.DEN.BİL.ENS.', 'BÜYÜKÇEKMECE', '\tKADIKÖY/GÖZTEPE', 'SARIYER/RUMELİ FENERİ BAL. BAR. ANA MENDİREK FENER', 'EYÜPSULTAN',\n",
    "                     'SİLİVRİ ANA MENDİREK FENERİ', 'TUZLA İTÜ GÜNEY MENDİREK FENERİ', 'ŞİLE', 'FLORYA', 'GÜNGÖREN/DAVUTPAŞA MARMARA', 'FATİH/KUMKAPI FENER', 'TUZLA', 'SİLİVRİ', 'ARNAVUTKÖY',\n",
    "                     'ÇEKMEKÖY/ÖMERLİ', 'BEYKOZ/ANADOLU FENERİ', 'ÜSKÜDAR', 'SANCAKTEPE', 'ŞİŞLİ', 'ÜMRANİYE', 'BEYKOZ', 'ADALAR ŞAMANDIRA', 'ŞİLE/İSAKÖY', 'SİLİVRİ ORMAN SAHASI', 'ARNAVUTKÖY/TERKOS BARAJI',\n",
    "                     'ÇATALCA', 'ÇAVUŞBAŞI AKOM', 'HADİMKÖY AKOM', 'ÖMERLİ AKOM', 'KAĞITHANE AKOM', 'ÇANTA AKOM', 'İSTANBUL HAVALİMANI'],\n",
    "            'code': [17063, 17064, 17065, 17047, 17061, 17060, 17062, 17388, 20017, 17603, 18099, 17813, 17455, 18101, 17438, 17448, 17610, 17636, 17814, 17454, 18100, 18400, 18402, 18397, 18421,\n",
    "                     18404, 18399, 18401, 18403, 18396, 17389, 18735, 18793, 18734, 19111, 20009, 20011, 20023, 20016, 20008, 17058],\n",
    "            'lat': [40.897700, 40.911345, 40.986581, 41.340943, 41.146382, 40.981900, 40.988300, 41.039565, 41.047550, 41.015546, 41.045278, 40.979451, 41.230000, 41.102778, 41.073056, 40.812778,\n",
    "                    41.168800, 40.975837, 41.026600, 41.004200, 40.827778, 41.185556, 41.220278, 41.078333, 41.223333, 41.032778, 41.008611, 41.054722, 41.029444, 41.141667, 40.932780, 41.108330,\n",
    "                    41.306389, 41.336390, 41.168037, 41.076074, 41.138262, 40.999284, 41.085381, 41.085023, 41.264714],\n",
    "            'lon': [29.303300, 29.155803, 29.213521, 28.356803, 29.050195, 28.820800, 29.018950, 28.187255, 28.418800, 28.960097, 28.590000, 29.057147, 29.115300, 28.924167, 28.239444, 29.297778,\n",
    "                    29.600651, 28.786531, 28.885300, 28.954700, 29.293056, 28.157500, 28.707500, 29.325556, 29.165833, 29.046389, 29.282222, 28.968333, 29.138333, 29.073889, 28.948890, 29.828330,\n",
    "                    28.186944, 28.617500, 28.490868, 29.136627, 28.623900, 29.329763, 28.961973, 28.078444, 28.728836]}"
   ]
  },
  {
   "cell_type": "code",
   "execution_count": 12,
   "metadata": {},
   "outputs": [
    {
     "name": "stdout",
     "output_type": "stream",
     "text": [
      "41\n",
      "41\n",
      "41\n",
      "41\n"
     ]
    }
   ],
   "source": [
    "print(len(stations['name']))\n",
    "print(len(stations['code']))\n",
    "print(len(stations['lat']))\n",
    "print(len(stations['lon']))"
   ]
  }
 ],
 "metadata": {
  "kernelspec": {
   "display_name": "mto",
   "language": "python",
   "name": "python3"
  },
  "language_info": {
   "codemirror_mode": {
    "name": "ipython",
    "version": 3
   },
   "file_extension": ".py",
   "mimetype": "text/x-python",
   "name": "python",
   "nbconvert_exporter": "python",
   "pygments_lexer": "ipython3",
   "version": "3.11.0"
  }
 },
 "nbformat": 4,
 "nbformat_minor": 2
}
